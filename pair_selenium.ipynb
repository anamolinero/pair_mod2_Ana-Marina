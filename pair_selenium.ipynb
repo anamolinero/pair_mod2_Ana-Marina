{
 "cells": [
  {
   "cell_type": "code",
   "execution_count": 1,
   "metadata": {},
   "outputs": [],
   "source": [
    "from selenium import webdriver  # Selenium es una herramienta para automatizar la interacción con navegadores web.\n",
    "from webdriver_manager.chrome import ChromeDriverManager  # ChromeDriverManager gestiona la instalación del controlador de Chrome.\n",
    "from selenium.webdriver.common.keys import Keys  # Keys es útil para simular eventos de teclado en Selenium.\n",
    "from selenium.webdriver.support.ui import Select"
   ]
  },
  {
   "cell_type": "code",
   "execution_count": 2,
   "metadata": {},
   "outputs": [],
   "source": [
    "from time import sleep "
   ]
  },
  {
   "cell_type": "code",
   "execution_count": 3,
   "metadata": {},
   "outputs": [],
   "source": [
    "from bs4 import BeautifulSoup\n",
    "import requests\n",
    "import pandas as pd\n",
    "import re"
   ]
  },
  {
   "cell_type": "code",
   "execution_count": 25,
   "metadata": {},
   "outputs": [],
   "source": [
    "driver = webdriver.Chrome()\n",
    "driver.maximize_window()"
   ]
  },
  {
   "cell_type": "code",
   "execution_count": null,
   "metadata": {},
   "outputs": [
    {
     "name": "stdout",
     "output_type": "stream",
     "text": [
      "Accedo a la página\n",
      "accedo a catalogo\n",
      "accedo a materia\n"
     ]
    },
    {
     "ename": "NoSuchElementException",
     "evalue": "Message: no such element: Unable to locate element: {\"method\":\"css selector\",\"selector\":\"#slidingbar-menu > div > div:nth-child(2) > ul > li:nth-child(9) > a\"}\n  (Session info: chrome=134.0.6998.35); For documentation on this error, please visit: https://www.selenium.dev/documentation/webdriver/troubleshooting/errors#no-such-element-exception\nStacktrace:\n\tGetHandleVerifier [0x00007FF6DB59FE45+26629]\n\t(No symbol) [0x00007FF6DB506010]\n\t(No symbol) [0x00007FF6DB39931A]\n\t(No symbol) [0x00007FF6DB3EF8E7]\n\t(No symbol) [0x00007FF6DB3EFB1C]\n\t(No symbol) [0x00007FF6DB4434A7]\n\t(No symbol) [0x00007FF6DB417AEF]\n\t(No symbol) [0x00007FF6DB440169]\n\t(No symbol) [0x00007FF6DB417883]\n\t(No symbol) [0x00007FF6DB3E0550]\n\t(No symbol) [0x00007FF6DB3E1803]\n\tGetHandleVerifier [0x00007FF6DB8F72BD+3529853]\n\tGetHandleVerifier [0x00007FF6DB90DA22+3621858]\n\tGetHandleVerifier [0x00007FF6DB9024D3+3575443]\n\tGetHandleVerifier [0x00007FF6DB66B77A+860474]\n\t(No symbol) [0x00007FF6DB51088F]\n\t(No symbol) [0x00007FF6DB50CBC4]\n\t(No symbol) [0x00007FF6DB50CD66]\n\t(No symbol) [0x00007FF6DB4FC2C9]\n\tBaseThreadInitThunk [0x00007FFFC7527374+20]\n\tRtlUserThreadStart [0x00007FFFC887CC91+33]\n",
     "output_type": "error",
     "traceback": [
      "\u001b[1;31m---------------------------------------------------------------------------\u001b[0m",
      "\u001b[1;31mNoSuchElementException\u001b[0m                    Traceback (most recent call last)",
      "Cell \u001b[1;32mIn[26], line 14\u001b[0m\n\u001b[0;32m     11\u001b[0m \u001b[38;5;28mprint\u001b[39m(\u001b[38;5;124m\"\u001b[39m\u001b[38;5;124maccedo a materia\u001b[39m\u001b[38;5;124m\"\u001b[39m)\n\u001b[0;32m     12\u001b[0m sleep(\u001b[38;5;241m1\u001b[39m)\n\u001b[1;32m---> 14\u001b[0m driver\u001b[38;5;241m.\u001b[39mfind_element(\u001b[38;5;124m\"\u001b[39m\u001b[38;5;124mcss selector\u001b[39m\u001b[38;5;124m\"\u001b[39m, \u001b[38;5;124m\"\u001b[39m\u001b[38;5;124m#slidingbar-menu > div > div:nth-child(2) > ul > li:nth-child(9) > a\u001b[39m\u001b[38;5;124m\"\u001b[39m)\u001b[38;5;241m.\u001b[39mclick()\n\u001b[0;32m     15\u001b[0m \u001b[38;5;28mprint\u001b[39m(\u001b[38;5;124m\"\u001b[39m\u001b[38;5;124maccedo a ficcion\u001b[39m\u001b[38;5;124m\"\u001b[39m)\n\u001b[0;32m     16\u001b[0m sleep(\u001b[38;5;241m1\u001b[39m)\n",
      "File \u001b[1;32mc:\\Users\\anamo\\anaconda3\\Lib\\site-packages\\selenium\\webdriver\\remote\\webdriver.py:898\u001b[0m, in \u001b[0;36mWebDriver.find_element\u001b[1;34m(self, by, value)\u001b[0m\n\u001b[0;32m    895\u001b[0m         \u001b[38;5;28;01mraise\u001b[39;00m NoSuchElementException(\u001b[38;5;124mf\u001b[39m\u001b[38;5;124m\"\u001b[39m\u001b[38;5;124mCannot locate relative element with: \u001b[39m\u001b[38;5;132;01m{\u001b[39;00mby\u001b[38;5;241m.\u001b[39mroot\u001b[38;5;132;01m}\u001b[39;00m\u001b[38;5;124m\"\u001b[39m)\n\u001b[0;32m    896\u001b[0m     \u001b[38;5;28;01mreturn\u001b[39;00m elements[\u001b[38;5;241m0\u001b[39m]\n\u001b[1;32m--> 898\u001b[0m \u001b[38;5;28;01mreturn\u001b[39;00m \u001b[38;5;28mself\u001b[39m\u001b[38;5;241m.\u001b[39mexecute(Command\u001b[38;5;241m.\u001b[39mFIND_ELEMENT, {\u001b[38;5;124m\"\u001b[39m\u001b[38;5;124musing\u001b[39m\u001b[38;5;124m\"\u001b[39m: by, \u001b[38;5;124m\"\u001b[39m\u001b[38;5;124mvalue\u001b[39m\u001b[38;5;124m\"\u001b[39m: value})[\u001b[38;5;124m\"\u001b[39m\u001b[38;5;124mvalue\u001b[39m\u001b[38;5;124m\"\u001b[39m]\n",
      "File \u001b[1;32mc:\\Users\\anamo\\anaconda3\\Lib\\site-packages\\selenium\\webdriver\\remote\\webdriver.py:429\u001b[0m, in \u001b[0;36mWebDriver.execute\u001b[1;34m(self, driver_command, params)\u001b[0m\n\u001b[0;32m    427\u001b[0m response \u001b[38;5;241m=\u001b[39m \u001b[38;5;28mself\u001b[39m\u001b[38;5;241m.\u001b[39mcommand_executor\u001b[38;5;241m.\u001b[39mexecute(driver_command, params)\n\u001b[0;32m    428\u001b[0m \u001b[38;5;28;01mif\u001b[39;00m response:\n\u001b[1;32m--> 429\u001b[0m     \u001b[38;5;28mself\u001b[39m\u001b[38;5;241m.\u001b[39merror_handler\u001b[38;5;241m.\u001b[39mcheck_response(response)\n\u001b[0;32m    430\u001b[0m     response[\u001b[38;5;124m\"\u001b[39m\u001b[38;5;124mvalue\u001b[39m\u001b[38;5;124m\"\u001b[39m] \u001b[38;5;241m=\u001b[39m \u001b[38;5;28mself\u001b[39m\u001b[38;5;241m.\u001b[39m_unwrap_value(response\u001b[38;5;241m.\u001b[39mget(\u001b[38;5;124m\"\u001b[39m\u001b[38;5;124mvalue\u001b[39m\u001b[38;5;124m\"\u001b[39m, \u001b[38;5;28;01mNone\u001b[39;00m))\n\u001b[0;32m    431\u001b[0m     \u001b[38;5;28;01mreturn\u001b[39;00m response\n",
      "File \u001b[1;32mc:\\Users\\anamo\\anaconda3\\Lib\\site-packages\\selenium\\webdriver\\remote\\errorhandler.py:232\u001b[0m, in \u001b[0;36mErrorHandler.check_response\u001b[1;34m(self, response)\u001b[0m\n\u001b[0;32m    230\u001b[0m         alert_text \u001b[38;5;241m=\u001b[39m value[\u001b[38;5;124m\"\u001b[39m\u001b[38;5;124malert\u001b[39m\u001b[38;5;124m\"\u001b[39m]\u001b[38;5;241m.\u001b[39mget(\u001b[38;5;124m\"\u001b[39m\u001b[38;5;124mtext\u001b[39m\u001b[38;5;124m\"\u001b[39m)\n\u001b[0;32m    231\u001b[0m     \u001b[38;5;28;01mraise\u001b[39;00m exception_class(message, screen, stacktrace, alert_text)  \u001b[38;5;66;03m# type: ignore[call-arg]  # mypy is not smart enough here\u001b[39;00m\n\u001b[1;32m--> 232\u001b[0m \u001b[38;5;28;01mraise\u001b[39;00m exception_class(message, screen, stacktrace)\n",
      "\u001b[1;31mNoSuchElementException\u001b[0m: Message: no such element: Unable to locate element: {\"method\":\"css selector\",\"selector\":\"#slidingbar-menu > div > div:nth-child(2) > ul > li:nth-child(9) > a\"}\n  (Session info: chrome=134.0.6998.35); For documentation on this error, please visit: https://www.selenium.dev/documentation/webdriver/troubleshooting/errors#no-such-element-exception\nStacktrace:\n\tGetHandleVerifier [0x00007FF6DB59FE45+26629]\n\t(No symbol) [0x00007FF6DB506010]\n\t(No symbol) [0x00007FF6DB39931A]\n\t(No symbol) [0x00007FF6DB3EF8E7]\n\t(No symbol) [0x00007FF6DB3EFB1C]\n\t(No symbol) [0x00007FF6DB4434A7]\n\t(No symbol) [0x00007FF6DB417AEF]\n\t(No symbol) [0x00007FF6DB440169]\n\t(No symbol) [0x00007FF6DB417883]\n\t(No symbol) [0x00007FF6DB3E0550]\n\t(No symbol) [0x00007FF6DB3E1803]\n\tGetHandleVerifier [0x00007FF6DB8F72BD+3529853]\n\tGetHandleVerifier [0x00007FF6DB90DA22+3621858]\n\tGetHandleVerifier [0x00007FF6DB9024D3+3575443]\n\tGetHandleVerifier [0x00007FF6DB66B77A+860474]\n\t(No symbol) [0x00007FF6DB51088F]\n\t(No symbol) [0x00007FF6DB50CBC4]\n\t(No symbol) [0x00007FF6DB50CD66]\n\t(No symbol) [0x00007FF6DB4FC2C9]\n\tBaseThreadInitThunk [0x00007FFFC7527374+20]\n\tRtlUserThreadStart [0x00007FFFC887CC91+33]\n"
     ]
    }
   ],
   "source": [
    "# entro en la página\n",
    "driver.get(\"https://madrid.ebiblio.es/\")\n",
    "print(\"Accedo a la página\")\n",
    "sleep(3)\n",
    "\n",
    "driver.find_element(\"css selector\", \"#main-menu > li:nth-child(2) > a\").click()\n",
    "print(\"accedo a catalogo\")\n",
    "sleep(1)\n",
    "\n",
    "driver.find_element(\"css selector\", \"#slidingbar-menu > div > div:nth-child(2)\").click()\n",
    "print(\"accedo a materia\")\n",
    "sleep(1)\n",
    "\n",
    "driver.find_element(\"css selector\", \"#slidingbar-menu > div > div:nth-child(2) > ul > li:nth-child(9) > a\").click()\n",
    "print(\"accedo a ficcion\")\n",
    "sleep(1)\n",
    "#solo hemos podido acceder a ciencias de la tierra, no a ficción"
   ]
  },
  {
   "cell_type": "code",
   "execution_count": null,
   "metadata": {},
   "outputs": [],
   "source": [
    "#header > div.nav-main-bar\n",
    "\n"
   ]
  }
 ],
 "metadata": {
  "kernelspec": {
   "display_name": "base",
   "language": "python",
   "name": "python3"
  },
  "language_info": {
   "codemirror_mode": {
    "name": "ipython",
    "version": 3
   },
   "file_extension": ".py",
   "mimetype": "text/x-python",
   "name": "python",
   "nbconvert_exporter": "python",
   "pygments_lexer": "ipython3",
   "version": "3.12.7"
  }
 },
 "nbformat": 4,
 "nbformat_minor": 2
}
