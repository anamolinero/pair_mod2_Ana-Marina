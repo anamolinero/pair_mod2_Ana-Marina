{
 "cells": [
  {
   "cell_type": "code",
   "execution_count": 3,
   "metadata": {},
   "outputs": [],
   "source": [
    "from bs4 import BeautifulSoup\n",
    "\n",
    "import requests\n",
    "\n",
    "import pandas as pd\n",
    "\n",
    "import re"
   ]
  },
  {
   "cell_type": "code",
   "execution_count": null,
   "metadata": {},
   "outputs": [],
   "source": [
    "# Crear un objeto BeautifulSoup\n",
    "soup = BeautifulSoup(html_doc, 'html.parser')"
   ]
  },
  {
   "cell_type": "code",
   "execution_count": 5,
   "metadata": {},
   "outputs": [],
   "source": [
    "url_coches = 'https://www.ocasionplus.com/coches-segunda-mano?v2&orderBy=morePopular'"
   ]
  },
  {
   "cell_type": "code",
   "execution_count": 6,
   "metadata": {},
   "outputs": [],
   "source": [
    "res_coches = requests.get(url_coches)"
   ]
  },
  {
   "cell_type": "code",
   "execution_count": 7,
   "metadata": {},
   "outputs": [
    {
     "name": "stdout",
     "output_type": "stream",
     "text": [
      "200\n"
     ]
    }
   ],
   "source": [
    "print(res_coches.status_code)"
   ]
  },
  {
   "cell_type": "code",
   "execution_count": 10,
   "metadata": {},
   "outputs": [],
   "source": [
    "dic_coches = {'coche': [], 'precio_rebajado': [], 'precio_original': [], 'km': []}"
   ]
  },
  {
   "cell_type": "code",
   "execution_count": 23,
   "metadata": {},
   "outputs": [],
   "source": [
    "soup_coches = BeautifulSoup(res_coches.content, 'html.parser')"
   ]
  },
  {
   "cell_type": "code",
   "execution_count": null,
   "metadata": {},
   "outputs": [],
   "source": [
    "print(soup_coches.prettify())"
   ]
  },
  {
   "cell_type": "code",
   "execution_count": 46,
   "metadata": {},
   "outputs": [],
   "source": [
    "x = soup_coches.find_all('a', {'class': 'cardVehicle_link__l8xYT button'})"
   ]
  },
  {
   "cell_type": "code",
   "execution_count": 51,
   "metadata": {},
   "outputs": [
    {
     "data": {
      "text/plain": [
       "bs4.element.Tag"
      ]
     },
     "execution_count": 51,
     "metadata": {},
     "output_type": "execute_result"
    }
   ],
   "source": [
    "type(x[0])"
   ]
  },
  {
   "cell_type": "code",
   "execution_count": null,
   "metadata": {},
   "outputs": [],
   "source": [
    "coches = [\"Toyota Corolla 15000\", \"Honda Civic 18000\", \"Ford Focus 12000\"] # Extraer solo los nombres (asumiendo que el precio está al final) nombres = [coche.rsplit(' ', 1)[0] for coche in coches] print(nombres) # Resultado: ['Toyota Corolla', 'Honda Civic', 'Ford Focus']"
   ]
  },
  {
   "cell_type": "code",
   "execution_count": 75,
   "metadata": {},
   "outputs": [],
   "source": [
    "nombres = [i.getText().rsplit(' ', 1)[0] for i in x]"
   ]
  },
  {
   "cell_type": "code",
   "execution_count": 76,
   "metadata": {},
   "outputs": [
    {
     "data": {
      "text/plain": [
       "['Suzuki Swift1.3 GL (92 CV)4.900€2005100.910 KmGasolina92 CVMANUALMadrid -',\n",
       " '-2.981€Nissan X-TRAIL1.6 dCi N-Connecta (130 CV)19.800€16.819€desde294€/mes2018127.683 KmDiésel130 CVMANUALLibro de',\n",
       " '-1.654€Citroën BerlingoCombi BlueHDi 100 Talla M Feel (102 CV)18.200€16.546€desde272€/mes2019100.366 KmDiésel102 CVMANUALGranada - Santa',\n",
       " '-1.990€Renault TraficFurgon Furgon 29 L1H1 Energy Blue dCi (145 CV)21.900€19.910€desde310€/mes202065.942 KmDiésel145 CVMANUALÚnico propietarioLa',\n",
       " '-1.172€Renault Kangoo FurgónFurgon Profesional dCi (75 CV)9.900€8.728€desde141€/mes2020128.343 KmDiésel75',\n",
       " '-2.036€Mitsubishi ASX160 MPI Motion (117 CV)17.400€15.364€desde270€/mes201921.610 KmGasolina117 CVMANUALÚnico propietarioLibro de revisionesCádiz -',\n",
       " '-6.226€Jaguar F-Pace2.0L i4D R-Sport AWD Auto (240 CV)30.990€24.764€desde464€/mes2017139.456 KmDiésel240 CVAUTOLibro de revisionesValencia -',\n",
       " 'Toyota Aygo70 x-play business (69 CV)12.900€desde309€/mes201530.479 KmGasolina69 CVAUTOBarcelona -',\n",
       " '-1.190€Mini MINI3 Puertas One D (95 CV)10.990€9.800€desde238€/mes2015135.506 KmDiésel95 CVMANUALLibro de revisionesToledo - Olías del',\n",
       " '-5.818€Audi Q3 SportbackS line 35 TFSI (150 CV) S tronic39.900€34.082€desde524€/mes202346.374 KmGasolina150',\n",
       " '-3.995€Volkswagen T-RocR-Line 1.5 TSI (150 CV) DSG29.900€25.905€desde401€/mes202339.247 KmGasolina150 CVAUTOÚnico propietarioLibro de revisionesBarcelona - Villafranca del',\n",
       " '-2.859€Volkswagen TaigoLife 1.0 TSI  (110 CV)19.550€16.691€desde261€/mes202333.305 KmGasolina110 CVMANUALPontevedra - Vigo Pol.',\n",
       " '-2.553€Volkswagen T-CrossAdvance 1.0 TSI (110 CV)19.790€17.237€desde270€/mes202338.071 KmGasolina110 CVMANUALÚnico propietarioPontevedra -',\n",
       " '-2.718€Volkswagen T-CrossAdvance 1.0 TSI (110 CV)19.900€17.182€desde269€/mes202330.920 KmGasolina110 CVMANUALMadrid - Colmenar',\n",
       " '-2.586€Seat LeónST 1.5 EcoTSI S&S Style Edition (130 CV)14.950€12.364€desde206€/mes201999.794 KmGasolina130 CVMANUALÚnico propietarioCiudad Real -',\n",
       " '-3.763€Seat LeónST 1.5 EcoTSI S&S Xcellence DSG (150 CV)16.900€13.137€desde218€/mes201986.051 KmGasolina150 CVAUTOCastellón -',\n",
       " '-4.490€Ford Fiesta1.0 EcoBoost MHEV ST-Line (125 CV)18.900€14.410€desde227€/mes202337.084 KmHíbrido125 CVMANUALCiudad Real -',\n",
       " '-3.209€Ford Fiesta1.0 EcoBoost MHEV ST-Line (125 CV)18.200€14.991€desde236€/mes202329.003 KmHíbrido125 CVMANUALCastellón -',\n",
       " '-6.413€Ford Kuga2.5 Duratec FHEV ST-Line Auto (190 CV)28.900€22.487€desde351€/mes202352.196 KmHíbrido190',\n",
       " '-5.986€Ford Kuga2.5 Duratec FHEV ST-Line Auto (190 CV)29.350€23.364€desde365€/mes202334.078 KmHíbrido190 CVAUTOCiudad']"
      ]
     },
     "execution_count": 76,
     "metadata": {},
     "output_type": "execute_result"
    }
   ],
   "source": [
    "nombres"
   ]
  },
  {
   "cell_type": "code",
   "execution_count": 73,
   "metadata": {},
   "outputs": [
    {
     "name": "stdout",
     "output_type": "stream",
     "text": [
      "Suzuki\n",
      "-2.981 Nissan\n",
      "-1.654 Citroën\n",
      "-1.990 Renault\n",
      "-1.172 Renault\n",
      "-2.036 Mitsubishi\n",
      "-6.226 Jaguar\n",
      "Toyota\n",
      "-1.190 Mini\n",
      "-5.818 Audi\n",
      "-3.995 Volkswagen\n",
      "-2.859 Volkswagen\n",
      "-2.553 Volkswagen\n",
      "-2.718 Volkswagen\n",
      "-2.586 Seat\n",
      "-3.763 Seat\n",
      "-4.490 Ford\n",
      "-3.209 Ford\n",
      "-6.413 Ford\n",
      "-5.986 Ford\n"
     ]
    }
   ],
   "source": [
    "for i in x:\n",
    "    print(i.getText().split()[0].replace('€', ' '))"
   ]
  }
 ],
 "metadata": {
  "kernelspec": {
   "display_name": "base",
   "language": "python",
   "name": "python3"
  },
  "language_info": {
   "codemirror_mode": {
    "name": "ipython",
    "version": 3
   },
   "file_extension": ".py",
   "mimetype": "text/x-python",
   "name": "python",
   "nbconvert_exporter": "python",
   "pygments_lexer": "ipython3",
   "version": "3.12.7"
  }
 },
 "nbformat": 4,
 "nbformat_minor": 2
}
